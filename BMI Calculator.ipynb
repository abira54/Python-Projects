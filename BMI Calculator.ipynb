{
 "cells": [
  {
   "cell_type": "markdown",
   "metadata": {},
   "source": [
    "# BMI Calculator"
   ]
  },
  {
   "cell_type": "code",
   "execution_count": 13,
   "metadata": {},
   "outputs": [
    {
     "name": "stdout",
     "output_type": "stream",
     "text": [
      "Your BMI is  20.34758430499417\n",
      "You are normal weight\n"
     ]
    }
   ],
   "source": [
    "weight = float(input('Enter your weight in kg: '))\n",
    "height = float(input('Enter your height in feet: '))\n",
    "height_m = height * 0.3048\n",
    "BMI = weight/(height_m*height_m)\n",
    "print('Your BMI is ',BMI)\n",
    "if (BMI >0):\n",
    "    if (BMI <18.5):\n",
    "        print('You are underweight.')\n",
    "    elif (BMI <25) :\n",
    "        print('You are normal weight.')\n",
    "    elif (BMI <30) :\n",
    "        print('You are overweight.')\n",
    "    elif (BMI <35) :\n",
    "        print('You are obese.')\n",
    "    elif (BMI <36) :\n",
    "        print('You are severely obese.')\n",
    "    else :\n",
    "        print('You are morbidly obese.')\n",
    "\n",
    "else:\n",
    "    print('Enter valid inputs')"
   ]
  },
  {
   "cell_type": "code",
   "execution_count": null,
   "metadata": {},
   "outputs": [],
   "source": []
  }
 ],
 "metadata": {
  "kernelspec": {
   "display_name": "Python 3",
   "language": "python",
   "name": "python3"
  },
  "language_info": {
   "codemirror_mode": {
    "name": "ipython",
    "version": 3
   },
   "file_extension": ".py",
   "mimetype": "text/x-python",
   "name": "python",
   "nbconvert_exporter": "python",
   "pygments_lexer": "ipython3",
   "version": "3.12.5"
  }
 },
 "nbformat": 4,
 "nbformat_minor": 2
}
