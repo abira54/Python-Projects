{
 "cells": [
  {
   "cell_type": "markdown",
   "id": "5c958a89",
   "metadata": {},
   "source": [
    "# Automatic File Sorter"
   ]
  },
  {
   "cell_type": "code",
   "execution_count": 2,
   "id": "d2067401-ea19-4ed0-9b7a-6847c14d3c5b",
   "metadata": {},
   "outputs": [],
   "source": [
    "import os,shutil"
   ]
  },
  {
   "cell_type": "code",
   "execution_count": 3,
   "id": "89c5743a-4bf7-432d-be41-af5594132f3c",
   "metadata": {},
   "outputs": [],
   "source": [
    "path = r\"C:/Users/Surface Lapto 2 1769/Documents/All Files/\""
   ]
  },
  {
   "cell_type": "code",
   "execution_count": 4,
   "id": "da53b106-7d75-473c-a35b-c56f706fe5fe",
   "metadata": {},
   "outputs": [
    {
     "name": "stdout",
     "output_type": "stream",
     "text": [
      "['Database', 'Excel', 'PDF', 'Power BI', 'Power Point', 'Quick Notes', 'Sql Scripts', 'Word']\n"
     ]
    }
   ],
   "source": [
    "file_name = os.listdir(path)\n",
    "print(file_name)"
   ]
  },
  {
   "cell_type": "code",
   "execution_count": 25,
   "id": "19f4758d-b8ae-49df-810f-20429fa280ef",
   "metadata": {},
   "outputs": [],
   "source": [
    "folder_name = ['Power BI','Excel','Database','Quick Notes','Power Point','Word','Sql Scripts','PDF']"
   ]
  },
  {
   "cell_type": "code",
   "execution_count": 26,
   "id": "26638caf-6252-4a22-ac18-29470880fb1d",
   "metadata": {},
   "outputs": [],
   "source": [
    "for folder in folder_name:\n",
    "    if not os.path.exists(path+folder):\n",
    "        os.makedirs(path+folder)\n",
    "for file in file_name:\n",
    "    if '.pbix' in file:\n",
    "        shutil.move(path+file, path+'Power BI/'+file)\n",
    "    elif '.xlsx' in file:\n",
    "        shutil.move(path+file, path+'Excel/'+file)\n",
    "    elif '.accdb' in file:\n",
    "        shutil.move(path+file, path+'Database/'+file)\n",
    "    elif '.one' in file:\n",
    "        shutil.move(path+file, path+'Quick Notes/'+file)\n",
    "    elif '.pptx' in file:\n",
    "        shutil.move(path+file, path+'Power Point/'+file)\n",
    "    elif '.docx' in file:\n",
    "        shutil.move(path+file, path+'Word/'+file)\n",
    "    elif '.sql' in file:\n",
    "        shutil.move(path+file, path+'Sql Scripts/'+file)\n",
    "    elif '.pdf' in file:\n",
    "        shutil.move(path+file, path+'PDF/'+file)"
   ]
  },
  {
   "cell_type": "code",
   "execution_count": null,
   "id": "cee55f83-9888-471b-996a-457730d4a7b5",
   "metadata": {},
   "outputs": [],
   "source": []
  }
 ],
 "metadata": {
  "kernelspec": {
   "display_name": "Python 3 (ipykernel)",
   "language": "python",
   "name": "python3"
  },
  "language_info": {
   "codemirror_mode": {
    "name": "ipython",
    "version": 3
   },
   "file_extension": ".py",
   "mimetype": "text/x-python",
   "name": "python",
   "nbconvert_exporter": "python",
   "pygments_lexer": "ipython3",
   "version": "3.12.5"
  }
 },
 "nbformat": 4,
 "nbformat_minor": 5
}
